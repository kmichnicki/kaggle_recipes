{
 "cells": [
  {
   "cell_type": "markdown",
   "metadata": {},
   "source": [
    "## Loading the data"
   ]
  },
  {
   "cell_type": "code",
   "execution_count": 21,
   "metadata": {
    "collapsed": false
   },
   "outputs": [],
   "source": [
    "#Loading the data\n",
    "import json\n",
    "data=[]\n",
    "with open(\"train.json\",'r') as f:\n",
    "    data=json.loads(f.read())\n",
    "\n",
    "      "
   ]
  },
  {
   "cell_type": "markdown",
   "metadata": {},
   "source": [
    "## Ingredients"
   ]
  },
  {
   "cell_type": "markdown",
   "metadata": {},
   "source": [
    "One of the things that the data science group has discussed is to find a way to reduce the total number of ingredients by determining which basic ingredients have duplicate entries (e.g. chicken breast, chicken thigh, etc.) and to categorize all of these as the ingredient \"chicken\". I have written a python function to take two arbitrary list of values and compute a set of ingredients which contain the words or expressions found in the first list, but do not contain the words or expressions found in the second list. That way, we can search for all ingredients with \"salt\", but not \"salted\", \"saltines\", etc. This should greatly simplify the classification process."
   ]
  },
  {
   "cell_type": "code",
   "execution_count": 22,
   "metadata": {
    "collapsed": false
   },
   "outputs": [
    {
     "name": "stdout",
     "output_type": "stream",
     "text": [
      "Actual cilantro count = 5950\n",
      "\n",
      "set([u'cilantro', u'knorr cilantro minicub', u'cilantro root', u'cilantro stems', u'cilantro pesto', u'cilantro leaves', u'fresh cilantro', u'chopped cilantro fresh', u'chopped cilantro', u'cilantro sprigs'])\n",
      "\n",
      "Actual parmesan count = 2936\n",
      "\n",
      "set([u'parmesan cheese', u'shaved parmesan cheese', u'low-fat parmesan cheese', u'grated parmesan romano', u'freshly grated parmesan', u'low sodium parmesan cheese', u'grated parmesan cheese', u'vegan parmesan cheese', u'fat-free parmesan cheese', u'fresh parmesan cheese', u'shredded parmesan cheese'])\n",
      "\n",
      "Actual mozarella count = 1423\n",
      "\n",
      "set([u'preshred low fat mozzarella chees', u'mozzarella balls', u'low moisture mozzarella', u'part-skim mozzarella cheese', u'buffalo mozarella', u'chees fresh mozzarella', u'shredded low-fat mozzarella cheese', u'low-fat mozzarella cheese', u'fresh mozzarella balls', u'nonfat mozzarella cheese', u'shredded mozzarella cheese', u'chees mozzarella stick', u'low fat mozzarella', u'mozzarella string cheese', u'fresh mozzarella', u'2% milk shredded mozzarella cheese', u'mozzarella cheese', u'buffalo mozzarella', u'reduced fat mozzarella', u'part-skim mozzarella', u'smoked mozzarella'])\n",
      "\n",
      "Actual salt count = 24362\n",
      "\n",
      "set([u'iodized salt', u'Hawaiian salt', u'maldon sea salt', u'coarse sea salt', u'butter salt', u'Himalayan salt', u'pink salt', u'coarse kosher salt', u'low sodium salt', u'canning salt', u'salt water', u'gray salt', u'pickling salt', u'black salt', u'cooking salt', u'bacon salt', u'low salt chicken broth', u'rock salt', u'celery salt', u'sour salt', u'table salt', u'onion salt', u'salt and ground black pepper', u'sea salt flakes', u'garlic salt', u'margarita salt', u'seasoning salt', u'fine grain salt', u'ice cream salt', u'fine sea salt', u'curing salt', u'coarse-grain salt', u'smoked sea salt', u'kosher salt', u'truffle salt', u'fine salt', u'coarse salt', u'sea salt', u'salt', u'sesame salt', u'celtic salt'])\n",
      "\n",
      "Actual olive oil count = 8035\n",
      "\n",
      "set([u'olive oil', u\"i can't believ it' not butter! made with olive oil spread\", u'olive oil spray', u'mild olive oil', u'garlic olive oil', u'pure olive oil', u'lemon olive oil', u'extra light olive oil', u'basil olive oil'])\n",
      "\n",
      "Actual chicken count = 6507\n",
      "\n",
      "set([u'boneless chicken thighs', u'chicken', u'roast breast of chicken', u'boneless skinless chicken thigh fillets', u'broiler chicken', u'boneless skinless chicken', u'boneless skinless chicken breast halves', u'chicken wing drummettes', u'free-range chickens', u'chicken fillets', u'boneless, skinless chicken breast', u'diced chicken', u'chicken livers', u'boneless chicken cutlet', u'chicken parts', u'chicken pan drippings', u'frozen popcorn chicken', u'low sodium chicken', u'organic chicken', u'grilled chicken', u'broiler-fryer chicken', u'Foster Farms boneless skinless chicken breasts', u'boneless skinless chicken tenderloins', u'roasting chickens', u'chicken breasts', u'chicken in water', u'black chicken', u'boneless chicken thigh fillets', u'bone-in chicken breasts', u'chicken schmaltz', u'chicken breast tenderloins', u'chicken carcass', u'chicken leg quarters', u'chicken breast fillets', u'chicken cutlets', u'skinless chicken thighs', u'boneless skin on chicken thighs', u'chicken wingettes', u'cooked chicken', u'canned chicken breast', u'chicken pieces', u'popcorn chicken', u'chicken drumsticks', u'vegetarian chicken', u'skinless chicken pieces', u'grilled chicken breasts', u'skinless chicken breasts', u'bone in skin on chicken thigh', u'chicken breast halves', u'boneless chicken', u'chicken heart', u'chicken thighs', u'chicken gizzards', u'fryer chickens', u'chicken tenderloin', u'ground chicken breast', u'chicken thigh fillets', u'chicken strips', u'whole chicken', u'chicken bones', u'bone-in chicken', u'chicken fingers', u'bone in skinless chicken thigh', u'boneless chicken skinless thigh', u'skin on bone in chicken legs', u'ground chicken', u'chicken nugget', u'minced chicken', u'boneless chicken breast', u'boneless chicken breast halves', u'free range chicken breasts', u'bone in chicken thighs', u'cooked chicken breasts', u'cut up cooked chicken', u'chicken feet', u'chicken breast strips', u'skinless chicken breast fillets', u'chicken demi-glace', u'chicken legs', u'grilled chicken strips', u'chicken consomme', u'boneless skinless chicken breasts', u'rotisserie chicken', u'chicken wings', u'sliced chicken', u'2 1/2 to 3 lb. chicken, cut into serving pieces', u'canned chicken', u'chicken breast tenders', u'skinless chicken fillets', u'bone-in chicken breast halves', u'cut up chicken', u'chicken meat', u'skinless and boneless chicken breast fillet'])\n",
      "\n"
     ]
    }
   ],
   "source": [
    "from collections import Counter\n",
    "\n",
    "ingredients=Counter()\n",
    "for recipe in data:\n",
    "    for ingredient in recipe['ingredients']:\n",
    "        ingredients[ingredient]+=1\n",
    "        \n",
    "def findRedundantIngredients(baseIngredientList, falseWordList):\n",
    "    redundantIngredients = set([]);\n",
    "    \n",
    "    for recipe in data:\n",
    "        for ingredient in recipe['ingredients']:\n",
    "             for baseIngredient in baseIngredientList:\n",
    "                if baseIngredient in ingredient:\n",
    "                    hasFalseWord = 'false';\n",
    "                    for falseWord in falseWordList:\n",
    "                        if falseWord in ingredient:\n",
    "                            hasFalseWord = 'true'\n",
    "                        \n",
    "                    if hasFalseWord == 'false':\n",
    "                        redundantIngredients.add(ingredient);\n",
    "    \n",
    "    totalIngredientCount = 0;\n",
    "    for ingredient in redundantIngredients:\n",
    "        totalIngredientCount += ingredients[ingredient];\n",
    "        \n",
    "    print \"Actual \" + str(baseIngredient) + \" count = \" + str(totalIngredientCount) + \"\\n\";\n",
    "    print str(redundantIngredients) + \"\\n\";\n",
    "    \n",
    "    \n",
    "findRedundantIngredients(['cilantro'],[]);\n",
    "findRedundantIngredients(['parmesan'],[]);\n",
    "findRedundantIngredients(['mozzarella','mozarella'],[]);\n",
    "findRedundantIngredients(['salt'],['salted','no','saltine','free','saltpeter','pork','unsalt']);\n",
    "findRedundantIngredients(['olive oil'],['in','mayo']);\n",
    "findRedundantIngredients(['chicken'],['broth','bouillon','stock','soup','flavor','salad','gravy','egg','base','sausage']);\n",
    "\n",
    "        "
   ]
  },
  {
   "cell_type": "markdown",
   "metadata": {},
   "source": [
    "Wow, who knew that chicken could be described in so many ways? In Kamil's original python script, chicken didn't crack the top ten. But when you get all the different names, you find that around 16 percent of the recipes have chicken as an ingredient. It is pretty common\n",
    "\n",
    "I hope that this script is useful. Thanks to Kamil for providing the original code for reading in the methods. This makes me think that we may want to have some sort of mapping system where whenever we read in one of the ingredients in the set, we classify it as 'cilantro' or 'chicken' or whatever its fundamental ingredient is. This would significantly reduce the number of dependent variables and the statistical noise created by outliers. "
   ]
  }
 ],
 "metadata": {
  "kernelspec": {
   "display_name": "Python 2",
   "language": "python",
   "name": "python2"
  },
  "language_info": {
   "codemirror_mode": {
    "name": "ipython",
    "version": 2
   },
   "file_extension": ".py",
   "mimetype": "text/x-python",
   "name": "python",
   "nbconvert_exporter": "python",
   "pygments_lexer": "ipython2",
   "version": "2.7.10"
  }
 },
 "nbformat": 4,
 "nbformat_minor": 0
}
